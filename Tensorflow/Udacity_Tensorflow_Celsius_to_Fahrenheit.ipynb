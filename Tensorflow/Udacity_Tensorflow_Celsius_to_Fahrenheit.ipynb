{
  "nbformat": 4,
  "nbformat_minor": 0,
  "metadata": {
    "colab": {
      "name": "Udacity_Tensorflow_Celsius_to_Fahrenheit.ipynb",
      "provenance": [],
      "authorship_tag": "ABX9TyNa1ZROErF/OVuy3Qlb92GR",
      "include_colab_link": true
    },
    "kernelspec": {
      "name": "python3",
      "display_name": "Python 3"
    },
    "language_info": {
      "name": "python"
    }
  },
  "cells": [
    {
      "cell_type": "markdown",
      "metadata": {
        "id": "view-in-github",
        "colab_type": "text"
      },
      "source": [
        "<a href=\"https://colab.research.google.com/github/kirandapkar/Udacity-Courses/blob/main/Tensorflow/Udacity_Tensorflow_Celsius_to_Fahrenheit.ipynb\" target=\"_parent\"><img src=\"https://colab.research.google.com/assets/colab-badge.svg\" alt=\"Open In Colab\"/></a>"
      ]
    },
    {
      "cell_type": "code",
      "execution_count": 2,
      "metadata": {
        "id": "_hUo0MnMF0D4"
      },
      "outputs": [],
      "source": [
        "import tensorflow as tf"
      ]
    },
    {
      "cell_type": "code",
      "source": [
        "import numpy as np\n",
        "import logging"
      ],
      "metadata": {
        "id": "niDNx0aDGJJZ"
      },
      "execution_count": 3,
      "outputs": []
    },
    {
      "cell_type": "code",
      "source": [
        "celsius_q    = np.array([-40, -10,  0,  8, 15, 22,  38],  dtype=float)\n",
        "fahrenheit_a = np.array([-40,  14, 32, 46, 59, 72, 100],  dtype=float)\n"
      ],
      "metadata": {
        "id": "jr-wfo0SGPej"
      },
      "execution_count": 4,
      "outputs": []
    },
    {
      "cell_type": "code",
      "source": [
        "for i,c in enumerate(celsius_q):\n",
        "  print(\"{} degrees celsius = {} degrees farenheit\".format(c,fahrenheit_a[i]))"
      ],
      "metadata": {
        "colab": {
          "base_uri": "https://localhost:8080/"
        },
        "id": "VJuZGAy4GS_R",
        "outputId": "c5c8f62f-e052-46b4-eee0-3bebd529b35b"
      },
      "execution_count": 5,
      "outputs": [
        {
          "output_type": "stream",
          "name": "stdout",
          "text": [
            "-40.0 degrees celsius = -40.0 degrees farenheit\n",
            "-10.0 degrees celsius = 14.0 degrees farenheit\n",
            "0.0 degrees celsius = 32.0 degrees farenheit\n",
            "8.0 degrees celsius = 46.0 degrees farenheit\n",
            "15.0 degrees celsius = 59.0 degrees farenheit\n",
            "22.0 degrees celsius = 72.0 degrees farenheit\n",
            "38.0 degrees celsius = 100.0 degrees farenheit\n"
          ]
        }
      ]
    },
    {
      "cell_type": "code",
      "source": [
        "#build a layer"
      ],
      "metadata": {
        "id": "nZ87KmMZGqpH"
      },
      "execution_count": 6,
      "outputs": []
    },
    {
      "cell_type": "code",
      "source": [
        "l0 = tf.keras.layers.Dense(units=1,input_shape=[1])"
      ],
      "metadata": {
        "id": "mZDq63V_GvcV"
      },
      "execution_count": 7,
      "outputs": []
    },
    {
      "cell_type": "code",
      "source": [
        "model = tf.keras.Sequential([l0])"
      ],
      "metadata": {
        "id": "rQ2Z_R3NG_Cy"
      },
      "execution_count": 8,
      "outputs": []
    },
    {
      "cell_type": "code",
      "source": [
        "model.summary()"
      ],
      "metadata": {
        "colab": {
          "base_uri": "https://localhost:8080/"
        },
        "id": "SSeztSeYHFNc",
        "outputId": "2c28319f-bf3b-4cfd-df0d-cc6d4eae6742"
      },
      "execution_count": 10,
      "outputs": [
        {
          "output_type": "stream",
          "name": "stdout",
          "text": [
            "Model: \"sequential\"\n",
            "_________________________________________________________________\n",
            " Layer (type)                Output Shape              Param #   \n",
            "=================================================================\n",
            " dense (Dense)               (None, 1)                 2         \n",
            "                                                                 \n",
            "=================================================================\n",
            "Total params: 2\n",
            "Trainable params: 2\n",
            "Non-trainable params: 0\n",
            "_________________________________________________________________\n"
          ]
        }
      ]
    },
    {
      "cell_type": "code",
      "source": [
        "model.compile(loss=\"mean_squared_error\",optimizer=tf.keras.optimizers.Adam(0.1))"
      ],
      "metadata": {
        "id": "ao6AtmiHHMY2"
      },
      "execution_count": 11,
      "outputs": []
    },
    {
      "cell_type": "code",
      "source": [
        "history = model.fit(celsius_q,fahrenheit_a,epochs=500,verbose=False)"
      ],
      "metadata": {
        "id": "9Q0xNF6MItqC"
      },
      "execution_count": 12,
      "outputs": []
    },
    {
      "cell_type": "code",
      "source": [
        "import matplotlib.pyplot as plt\n",
        "plt.xlabel(\"Epoch Number\")\n",
        "plt.ylabel(\"Loss\")\n",
        "plt.plot(history.history['loss'])"
      ],
      "metadata": {
        "colab": {
          "base_uri": "https://localhost:8080/",
          "height": 297
        },
        "id": "pA3HBC_FKJW5",
        "outputId": "086011cb-bb37-446b-b2bb-2a2f7a8be2d0"
      },
      "execution_count": 13,
      "outputs": [
        {
          "output_type": "execute_result",
          "data": {
            "text/plain": [
              "[<matplotlib.lines.Line2D at 0x7f7f9fedf350>]"
            ]
          },
          "metadata": {},
          "execution_count": 13
        },
        {
          "output_type": "display_data",
          "data": {
            "text/plain": [
              "<Figure size 432x288 with 1 Axes>"
            ],
            "image/png": "[encoded data removed]"
          },
          "metadata": {
            "needs_background": "light"
          }
        }
      ]
    },
    {
      "cell_type": "code",
      "source": [
        "print(model.predict([100.0,-40]))"
      ],
      "metadata": {
        "colab": {
          "base_uri": "https://localhost:8080/"
        },
        "id": "JsOMCbwDKe7K",
        "outputId": "9d1bcdb9-002c-44c5-ee3d-2b2794639b63"
      },
      "execution_count": 14,
      "outputs": [
        {
          "output_type": "stream",
          "name": "stdout",
          "text": [
            "[[211.29457 ]\n",
            " [-44.401554]]\n"
          ]
        }
      ]
    },
    {
      "cell_type": "code",
      "source": [
        "print(\"layer varibles {}\".format(l0.get_weights()))"
      ],
      "metadata": {
        "colab": {
          "base_uri": "https://localhost:8080/"
        },
        "id": "g-FyUMj3Km3h",
        "outputId": "9f71a04d-906b-4685-876a-cfaff29d0a22"
      },
      "execution_count": 16,
      "outputs": [
        {
          "output_type": "stream",
          "name": "stdout",
          "text": [
            "layer varibles [array([[1.8264009]], dtype=float32), array([28.654484], dtype=float32)]\n"
          ]
        }
      ]
    },
    {
      "cell_type": "code",
      "source": [
        "#multilayer NN\n",
        "l0 = tf.keras.layers.Dense(4,input_shape=[1])\n",
        "l1 = tf.keras.layers.Dense(4)\n",
        "l2  = tf.keras.layers.Dense(1)\n",
        "\n",
        "model = tf.keras.Sequential([l0,l1,l2])"
      ],
      "metadata": {
        "id": "WcQYybe9K1yc"
      },
      "execution_count": 22,
      "outputs": []
    },
    {
      "cell_type": "code",
      "source": [
        "model.compile(loss='mean_squared_error',optimizer=tf.keras.optimizers.Adam(0.1))"
      ],
      "metadata": {
        "id": "L8i1LU6bLwbC"
      },
      "execution_count": 24,
      "outputs": []
    },
    {
      "cell_type": "code",
      "source": [
        "history = model.fit(celsius_q,fahrenheit_a,epochs=500,verbose=False)"
      ],
      "metadata": {
        "id": "tAVq_2g4MnKv"
      },
      "execution_count": 25,
      "outputs": []
    },
    {
      "cell_type": "code",
      "source": [
        "model.predict([100.0])"
      ],
      "metadata": {
        "colab": {
          "base_uri": "https://localhost:8080/"
        },
        "id": "o-8l20BzM5pC",
        "outputId": "a9d9f6f4-071d-403a-c8b1-1030f2d0a57e"
      },
      "execution_count": 27,
      "outputs": [
        {
          "output_type": "execute_result",
          "data": {
            "text/plain": [
              "array([[211.74745]], dtype=float32)"
            ]
          },
          "metadata": {},
          "execution_count": 27
        }
      ]
    },
    {
      "cell_type": "code",
      "source": [
        "l0.get_weights()"
      ],
      "metadata": {
        "colab": {
          "base_uri": "https://localhost:8080/"
        },
        "id": "46DifvQtM-Oc",
        "outputId": "e89cd738-f764-4fdd-b4fd-701d668241aa"
      },
      "execution_count": 28,
      "outputs": [
        {
          "output_type": "execute_result",
          "data": {
            "text/plain": [
              "[array([[-0.22611317, -0.19728217,  0.55191135,  0.34618878]],\n",
              "       dtype=float32),\n",
              " array([0.53968406, 2.2655504 , 3.6813881 , 3.2807648 ], dtype=float32)]"
            ]
          },
          "metadata": {},
          "execution_count": 28
        }
      ]
    },
    {
      "cell_type": "code",
      "source": [
        "l1.get_weights()"
      ],
      "metadata": {
        "colab": {
          "base_uri": "https://localhost:8080/"
        },
        "id": "XOJgFxdCNRQp",
        "outputId": "e9ae4093-67bf-4201-f090-129ff407d807"
      },
      "execution_count": 29,
      "outputs": [
        {
          "output_type": "execute_result",
          "data": {
            "text/plain": [
              "[array([[-0.19976625, -0.48905176,  0.13539778,  0.30891988],\n",
              "        [ 0.7173014 , -0.6993271 ,  0.33200416,  0.78967535],\n",
              "        [ 1.0427135 , -1.5161061 ,  0.27615175,  0.21284601],\n",
              "        [ 0.4746015 , -1.0821892 , -0.7172928 ,  0.37971598]],\n",
              "       dtype=float32),\n",
              " array([ 3.7608287, -4.115212 , -3.4488308, -1.8998274], dtype=float32)]"
            ]
          },
          "metadata": {},
          "execution_count": 29
        }
      ]
    },
    {
      "cell_type": "code",
      "source": [
        "l2.get_weights()"
      ],
      "metadata": {
        "colab": {
          "base_uri": "https://localhost:8080/"
        },
        "id": "0jNxFjzINTtF",
        "outputId": "9219164b-1c58-4645-ce4a-d80395549764"
      },
      "execution_count": 30,
      "outputs": [
        {
          "output_type": "execute_result",
          "data": {
            "text/plain": [
              "[array([[ 0.94505864],\n",
              "        [-1.1330439 ],\n",
              "        [-0.58085066],\n",
              "        [-0.5425881 ]], dtype=float32), array([3.59268], dtype=float32)]"
            ]
          },
          "metadata": {},
          "execution_count": 30
        }
      ]
    },
    {
      "cell_type": "code",
      "source": [
        ""
      ],
      "metadata": {
        "id": "PHIfucdzNYFo"
      },
      "execution_count": null,
      "outputs": []
    }
  ]
}